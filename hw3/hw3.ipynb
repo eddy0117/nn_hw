{
 "cells": [
  {
   "cell_type": "code",
   "execution_count": 303,
   "metadata": {},
   "outputs": [
    {
     "data": {
      "text/plain": [
       "0.049958374957880004"
      ]
     },
     "execution_count": 303,
     "metadata": {},
     "output_type": "execute_result"
    }
   ],
   "source": [
    "hopfield.hyperbolic_tangent(0.0001)"
   ]
  },
  {
   "cell_type": "code",
   "execution_count": 2,
   "metadata": {},
   "outputs": [],
   "source": [
    "import numpy as np\n",
    "\n",
    "\n",
    "class Hopfield:\n",
    "    def __init__(self, n_features, init_factor=1):\n",
    "        self.weights = np.ones((n_features, n_features), dtype=np.float32) * init_factor\n",
    "        self.n_features = n_features\n",
    "        # self.n_patterns = n_patterns\n",
    "    \n",
    "    def hyperbolic_tangent(self, x):\n",
    "        # beta = 100 不太夠，1000 能確保完全二值化\n",
    "        beta = 1000\n",
    "        return (1 - np.exp(-beta * x)) / (1 + np.exp(-beta * x))\n",
    "    \n",
    "    def update_pattern(self, x):\n",
    "        ori_shape = x.shape\n",
    "        # 將 pattern 攤平\n",
    "        x = x.reshape(1, -1)\n",
    "        u = np.matmul(x, self.weights.T)\n",
    "        \n",
    "        v = self.hyperbolic_tangent(u)\n",
    "        # 回復原本的 shape\n",
    "        v = v.reshape(ori_shape)\n",
    "        return v\n",
    "    \n",
    "    def recover_pattern(self, cur_state, max_iter=10):\n",
    "        # operation phase\n",
    "        for idx, _ in enumerate(range(max_iter)):\n",
    "            prev_state = cur_state.copy()\n",
    "            cur_state = self.update_pattern(cur_state)\n",
    "\n",
    "            # 如果前一個 state 與當前 state 完全相同，代表已經達穩定狀態\n",
    "            if np.all(cur_state == prev_state):\n",
    "                print(f'stable at {idx} iteration')\n",
    "                break\n",
    "                \n",
    "        return cur_state\n",
    "    \n",
    "    def update_weights(self, patterns):\n",
    "        # Outer product method\n",
    "        n = self.weights.shape[0] * self.weights.shape[1]\n",
    "        p = len(patterns)\n",
    "        # 迭代每個 pattern\n",
    "        for z in patterns:\n",
    "            # 將 pattern 攤平成一維\n",
    "            z = z.reshape(-1, 1)\n",
    "            self.weights += np.matmul(z, z.T)\n",
    "\n",
    "        # self.weights = (self.weights / n) - (np.eye(self.weights.shape[0]) * p / n)\n",
    "        self.weights /= n\n",
    "        np.fill_diagonal(self.weights, 0)\n",
    "   \n",
    "def add_noise(patterns, ratio, seed=None):\n",
    "    if seed:\n",
    "        np.random.seed(seed)\n",
    "    noisy_patterns = patterns.copy()\n",
    "    for pattern in noisy_patterns:\n",
    "       \n",
    "        ori_shape = pattern.shape\n",
    "        pattern = pattern.reshape(-1, 1)\n",
    "        # 打亂 index 後選擇 ratio 比例的數量來翻轉顏色\n",
    "        flip = np.random.permutation(len(pattern))[:int(len(pattern) * ratio)]\n",
    "        pattern[flip] *= -1\n",
    "        pattern = pattern.reshape(ori_shape)\n",
    "\n",
    "    return noisy_patterns\n",
    "    "
   ]
  },
  {
   "cell_type": "code",
   "execution_count": 4,
   "metadata": {},
   "outputs": [
    {
     "name": "stdout",
     "output_type": "stream",
     "text": [
      "stable at 4 iteration\n",
      "stable at 6 iteration\n",
      "stable at 4 iteration\n",
      "stable at 8 iteration\n"
     ]
    },
    {
     "data": {
      "image/png": "[encoded data removed]",
      "text/plain": [
       "<Figure size 400x900 with 3 Axes>"
      ]
     },
     "metadata": {},
     "output_type": "display_data"
    },
    {
     "data": {
      "image/png": "[encoded data removed]",
      "text/plain": [
       "<Figure size 400x900 with 3 Axes>"
      ]
     },
     "metadata": {},
     "output_type": "display_data"
    },
    {
     "data": {
      "image/png": "[encoded data removed]",
      "text/plain": [
       "<Figure size 400x900 with 3 Axes>"
      ]
     },
     "metadata": {},
     "output_type": "display_data"
    },
    {
     "data": {
      "image/png": "[encoded data removed]",
      "text/plain": [
       "<Figure size 400x900 with 3 Axes>"
      ]
     },
     "metadata": {},
     "output_type": "display_data"
    }
   ],
   "source": [
    "import matplotlib.pyplot as plt\n",
    "import os\n",
    "import cv2\n",
    "\n",
    "\n",
    "patterns = np.array([[[-1, -1, 1, 1, -1],\n",
    "                    [-1, 1, 1, 1, -1],\n",
    "                    [-1, -1, 1, 1, -1],\n",
    "                    [-1, -1, 1, 1, -1],\n",
    "                    [-1, -1, 1, 1, -1],\n",
    "                    [-1, -1, 1, 1, -1],\n",
    "                    [-1, -1, 1, 1, -1],\n",
    "                    [-1, -1, 1, 1, -1],\n",
    "                    [-1, -1, 1, 1, -1]],\n",
    "                   [[1, 1, 1, 1, 1],\n",
    "                    [1, 1, 1, 1, 1],\n",
    "                    [-1, -1, -1, 1, 1],\n",
    "                    [-1, -1, -1, 1, 1],\n",
    "                    [1, 1, 1, 1, 1],\n",
    "                    [1, 1, -1, -1, -1],\n",
    "                    [1, 1, -1, -1, -1],\n",
    "                    [1, 1, 1, 1, 1],\n",
    "                    [1, 1, 1, 1, 1]],\n",
    "                   [[1, 1, 1, 1, 1],\n",
    "                    [1, 1, 1, 1, 1],\n",
    "                    [-1, -1, -1, 1, 1],\n",
    "                    [-1, -1, -1, 1, 1],\n",
    "                    [1, 1, 1, 1, 1],\n",
    "                    [-1, -1, -1, 1, 1],\n",
    "                    [-1, -1, -1, 1, 1],\n",
    "                    [1, 1, 1, 1, 1],\n",
    "                    [1, 1, 1, 1, 1]],\n",
    "                   [[1, 1, -1, 1, 1],\n",
    "                    [1, 1, -1, 1, 1],\n",
    "                    [1, 1, -1, 1, 1],\n",
    "                    [1, 1, 1, 1, 1],\n",
    "                    [1, 1, 1, 1, 1],\n",
    "                    [-1, -1, -1, 1, 1],\n",
    "                    [-1, -1, -1, 1, 1],\n",
    "                    [-1, -1, -1, 1, 1],\n",
    "                    [-1, -1, -1, 1, 1]]])\n",
    "\n",
    "\n",
    "# 讓 HNN 記憶原始 pattern\n",
    "hopfield = Hopfield(patterns.shape[1] * patterns.shape[2], init_factor=0)\n",
    "hopfield.update_weights(patterns)\n",
    "\n",
    "noisy_patterns = add_noise(patterns, 0.1, 5)\n",
    "recovered_patterns = []\n",
    "for pattern in noisy_patterns:\n",
    "    recovered_patterns.append(hopfield.recover_pattern(pattern, max_iter=20))\n",
    "\n",
    "\n",
    "for ori, noi, rec in zip(patterns, noisy_patterns, recovered_patterns):\n",
    "    plt.figure(figsize=(4, 9))\n",
    "    plt.subplot(1, 3, 1)\n",
    "    plt.xticks([])\n",
    "    plt.yticks([])\n",
    "    plt.imshow(ori, cmap='gray_r')\n",
    "    plt.subplot(1, 3, 2)\n",
    "    plt.xticks([])\n",
    "    plt.yticks([])\n",
    "    plt.imshow(noi, cmap='gray_r')\n",
    "    plt.subplot(1, 3, 3)\n",
    "    plt.xticks([])\n",
    "    plt.yticks([])\n",
    "    plt.imshow(rec, cmap='gray_r')\n",
    "    plt.show()\n"
   ]
  },
  {
   "cell_type": "code",
   "execution_count": 368,
   "metadata": {},
   "outputs": [
    {
     "name": "stdout",
     "output_type": "stream",
     "text": [
      "[[1.17737570e-08 1.29511327e-07 1.29511327e-07 ... 8.24162989e-08\n",
      "  8.24162989e-08 8.24162989e-08]\n",
      " [1.29511327e-07 1.17737570e-08 1.29511327e-07 ... 8.24162989e-08\n",
      "  8.24162989e-08 8.24162989e-08]\n",
      " [1.29511327e-07 1.29511327e-07 1.17737570e-08 ... 8.24162989e-08\n",
      "  8.24162989e-08 8.24162989e-08]\n",
      " ...\n",
      " [8.24162989e-08 8.24162989e-08 8.24162989e-08 ... 1.17737570e-08\n",
      "  1.29511327e-07 1.29511327e-07]\n",
      " [8.24162989e-08 8.24162989e-08 8.24162989e-08 ... 1.29511327e-07\n",
      "  1.17737570e-08 1.29511327e-07]\n",
      " [8.24162989e-08 8.24162989e-08 8.24162989e-08 ... 1.29511327e-07\n",
      "  1.29511327e-07 1.17737570e-08]]\n"
     ]
    }
   ],
   "source": [
    "\n",
    "\n",
    "# print(hopfield.weights)\n",
    "# np.where(hopfield.weights < 0, True, False)\n",
    "# import cv2\n",
    "# import os\n",
    "\n",
    "# all_file = os.listdir('../bad_apple')[::5][:20]\n",
    "# for idx, file in enumerate(all_file):\n",
    "#     img = cv2.imread(f'../bad_apple/{file}')\n",
    "#     img = img[:, :, 0]\n",
    "#     img = np.where(img > 128, 1, -1)\n",
    "#     img = np.array([img], dtype=np.int8)\n",
    "#     if idx == 0:\n",
    "#         patterns = img\n",
    "#     else:\n",
    "#         patterns = np.append(patterns, img, axis=0)\n",
    "# print(patterns.shape)\n",
    "# noisy_patterns = add_noise(patterns, 0.3, 1)\n",
    "# for input in noisy_patterns:\n",
    "#     plt.imshow(input, cmap='gray')\n",
    "#     plt.show()\n",
    "# np.fill_diagonal(hopfield.weights, 0)\n",
    "print(hopfield.weights)"
   ]
  },
  {
   "cell_type": "code",
   "execution_count": null,
   "metadata": {},
   "outputs": [],
   "source": [
    "import os\n",
    "import cv2\n",
    "\n",
    "all_files = os.listdir('../frames')\n",
    "\n",
    "\n",
    "all_files = all_files[::24]\n",
    "\n",
    "\n",
    "for idx, file in enumerate(all_files):\n",
    "    img = cv2.imread(f'../frames/{file}')\n",
    "    img = cv2.resize(img, (128, 72))\n",
    "    img = cv2.threshold(img, 128, 255, cv2.THRESH_BINARY)[1]\n",
    "    cv2.imwrite(f'../bad_apple/{file}', img)"
   ]
  },
  {
   "cell_type": "code",
   "execution_count": 416,
   "metadata": {},
   "outputs": [
    {
     "data": {
      "text/plain": [
       "2.9553447489059597"
      ]
     },
     "execution_count": 416,
     "metadata": {},
     "output_type": "execute_result"
    }
   ],
   "source": [
    "45 / (4 * np.log(45))"
   ]
  }
 ],
 "metadata": {
  "kernelspec": {
   "display_name": "torch19",
   "language": "python",
   "name": "python3"
  },
  "language_info": {
   "codemirror_mode": {
    "name": "ipython",
    "version": 3
   },
   "file_extension": ".py",
   "mimetype": "text/x-python",
   "name": "python",
   "nbconvert_exporter": "python",
   "pygments_lexer": "ipython3",
   "version": "3.9.18"
  }
 },
 "nbformat": 4,
 "nbformat_minor": 2
}
